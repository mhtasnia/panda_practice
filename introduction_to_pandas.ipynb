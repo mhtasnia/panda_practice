{
  "nbformat": 4,
  "nbformat_minor": 0,
  "metadata": {
    "colab": {
      "provenance": [],
      "authorship_tag": "ABX9TyNy/24aC3aKjr1NbLsCKKUN",
      "include_colab_link": true
    },
    "kernelspec": {
      "name": "python3",
      "display_name": "Python 3"
    },
    "language_info": {
      "name": "python"
    }
  },
  "cells": [
    {
      "cell_type": "markdown",
      "metadata": {
        "id": "view-in-github",
        "colab_type": "text"
      },
      "source": [
        "<a href=\"https://colab.research.google.com/github/mhtasnia/panda_practice/blob/main/introduction_to_pandas.ipynb\" target=\"_parent\"><img src=\"https://colab.research.google.com/assets/colab-badge.svg\" alt=\"Open In Colab\"/></a>"
      ]
    },
    {
      "cell_type": "code",
      "execution_count": 1,
      "metadata": {
        "id": "02qUOzuWbdB8"
      },
      "outputs": [],
      "source": [
        "import pandas as pd\n",
        "#2887\n",
        "def fillMissingValues(products: pd.DataFrame) -> pd.DataFrame:\n",
        "    products['quantity'] = products['quantity'].fillna(0)\n",
        "    return products"
      ]
    },
    {
      "cell_type": "code",
      "source": [
        "import pandas as pd\n",
        "#2888\n",
        "def concatenateTables(df1: pd.DataFrame, df2: pd.DataFrame) -> pd.DataFrame:\n",
        "    return pd.concat([df1, df2], axis=0)"
      ],
      "metadata": {
        "id": "re6IU9fdbkA0"
      },
      "execution_count": 2,
      "outputs": []
    },
    {
      "cell_type": "code",
      "source": [
        "import pandas as pd\n",
        "#2889\n",
        "def pivotTable(weather: pd.DataFrame) -> pd.DataFrame:\n",
        "    return weather.pivot_table(index = 'month', columns = 'city', values = 'temperature', aggfunc='max')"
      ],
      "metadata": {
        "id": "_YtBaSk0f18v"
      },
      "execution_count": 4,
      "outputs": []
    },
    {
      "cell_type": "code",
      "source": [
        "import pandas as pd\n",
        "#2890\n",
        "def meltTable(report: pd.DataFrame) -> pd.DataFrame:\n",
        "    return report.melt(id_vars = ['product'], var_name='quarter', value_name='sales')"
      ],
      "metadata": {
        "id": "FAf9qAHgckPM"
      },
      "execution_count": 3,
      "outputs": []
    },
    {
      "cell_type": "code",
      "source": [
        "import pandas as pd\n",
        "#2891\n",
        "def findHeavyAnimals(animals: pd.DataFrame) -> pd.DataFrame:\n",
        "\n",
        "    return ((animals.loc[animals.weight >= 100]).sort_values(by = 'weight', ascending=False)).loc[:, ['name']]"
      ],
      "metadata": {
        "id": "hABSazWTfyDF"
      },
      "execution_count": 5,
      "outputs": []
    },
    {
      "cell_type": "code",
      "source": [],
      "metadata": {
        "id": "6Cq8j9wbjUKu"
      },
      "execution_count": null,
      "outputs": []
    }
  ]
}