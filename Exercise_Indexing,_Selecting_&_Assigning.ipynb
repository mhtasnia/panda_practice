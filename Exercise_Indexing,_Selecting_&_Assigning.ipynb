{
  "metadata": {
    "kernelspec": {
      "display_name": "Python 3",
      "language": "python",
      "name": "python3"
    },
    "language_info": {
      "name": "python",
      "version": "3.10.14",
      "mimetype": "text/x-python",
      "codemirror_mode": {
        "name": "ipython",
        "version": 3
      },
      "pygments_lexer": "ipython3",
      "nbconvert_exporter": "python",
      "file_extension": ".py"
    },
    "kaggle": {
      "accelerator": "none",
      "dataSources": [
        {
          "sourceId": 1252,
          "sourceType": "datasetVersion",
          "datasetId": 655
        },
        {
          "sourceId": 3919,
          "sourceType": "datasetVersion",
          "datasetId": 2321
        },
        {
          "sourceId": 4877,
          "sourceType": "datasetVersion",
          "datasetId": 2894
        },
        {
          "sourceId": 5624,
          "sourceType": "datasetVersion",
          "datasetId": 3491
        },
        {
          "sourceId": 8172,
          "sourceType": "datasetVersion",
          "datasetId": 1442
        },
        {
          "sourceId": 13206,
          "sourceType": "datasetVersion",
          "datasetId": 9366
        },
        {
          "sourceId": 403916,
          "sourceType": "datasetVersion",
          "datasetId": 179555
        },
        {
          "sourceId": 466349,
          "sourceType": "datasetVersion",
          "datasetId": 4549
        },
        {
          "sourceId": 1151655,
          "sourceType": "datasetVersion",
          "datasetId": 2478
        },
        {
          "sourceId": 5438389,
          "sourceType": "datasetVersion",
          "datasetId": 10128
        }
      ],
      "isInternetEnabled": false,
      "language": "python",
      "sourceType": "notebook",
      "isGpuEnabled": false
    },
    "colab": {
      "name": "Exercise: Indexing, Selecting & Assigning",
      "provenance": [],
      "include_colab_link": true
    }
  },
  "nbformat_minor": 0,
  "nbformat": 4,
  "cells": [
    {
      "cell_type": "markdown",
      "metadata": {
        "id": "view-in-github",
        "colab_type": "text"
      },
      "source": [
        "<a href=\"https://colab.research.google.com/github/mhtasnia/panda_practice/blob/main/Exercise_Indexing%2C_Selecting_%26_Assigning.ipynb\" target=\"_parent\"><img src=\"https://colab.research.google.com/assets/colab-badge.svg\" alt=\"Open In Colab\"/></a>"
      ]
    },
    {
      "source": [
        "\n",
        "# IMPORTANT: RUN THIS CELL IN ORDER TO IMPORT YOUR KAGGLE DATA SOURCES\n",
        "# TO THE CORRECT LOCATION (/kaggle/input) IN YOUR NOTEBOOK,\n",
        "# THEN FEEL FREE TO DELETE THIS CELL.\n",
        "# NOTE: THIS NOTEBOOK ENVIRONMENT DIFFERS FROM KAGGLE'S PYTHON\n",
        "# ENVIRONMENT SO THERE MAY BE MISSING LIBRARIES USED BY YOUR\n",
        "# NOTEBOOK.\n",
        "\n",
        "import os\n",
        "import sys\n",
        "from tempfile import NamedTemporaryFile\n",
        "from urllib.request import urlopen\n",
        "from urllib.parse import unquote, urlparse\n",
        "from urllib.error import HTTPError\n",
        "from zipfile import ZipFile\n",
        "import tarfile\n",
        "import shutil\n",
        "\n",
        "CHUNK_SIZE = 40960\n",
        "DATA_SOURCE_MAPPING = 'pitchfork-data:https%3A%2F%2Fstorage.googleapis.com%2Fkaggle-data-sets%2F655%2F1252%2Fbundle%2Farchive.zip%3FX-Goog-Algorithm%3DGOOG4-RSA-SHA256%26X-Goog-Credential%3Dgcp-kaggle-com%2540kaggle-161607.iam.gserviceaccount.com%252F20241013%252Fauto%252Fstorage%252Fgoog4_request%26X-Goog-Date%3D20241013T093751Z%26X-Goog-Expires%3D259200%26X-Goog-SignedHeaders%3Dhost%26X-Goog-Signature%3D2051b0ee0f32cd1ed0318cdfc1ad7ac953f339cfba638d0fdd8f651a93c1809ff955c72bba93eb617f70a76785b04bd7cc530f353b17956c1fd4a4edf56a2d40868dad3ab727ff7fe5567b564316eb3ab694b569a5cea7592cd325a607842426baa288c054badc9a7a23449f3dc4ffc4b7569f974ba200470ca2bdff61d5bcb6b59ec831cd400e29e863a0f4680e13356563ae4512c80b2978d4cc2499c4b7ab4a7d677b69b47f54b17787db4259159ee5e3d1f9ec38d3f0d95100fc2ecb856f779a2e98022a243d4e226e92bdf21f9f1431377fa23eadc1c6eb18ff8894a573c83fc5eb35bf7d2962e9f1764b9f4a2499b71701a94a2699f48dab603c05d29d,chess:https%3A%2F%2Fstorage.googleapis.com%2Fkaggle-data-sets%2F2321%2F3919%2Fbundle%2Farchive.zip%3FX-Goog-Algorithm%3DGOOG4-RSA-SHA256%26X-Goog-Credential%3Dgcp-kaggle-com%2540kaggle-161607.iam.gserviceaccount.com%252F20241013%252Fauto%252Fstorage%252Fgoog4_request%26X-Goog-Date%3D20241013T093751Z%26X-Goog-Expires%3D259200%26X-Goog-SignedHeaders%3Dhost%26X-Goog-Signature%3D985832e98e4cd1a27bf9738f2900c5c5acad4339135b461c9694fefe3e21c878213591cb402b439f2fb071ff8e7435ddfb40fdbdf0e0888f5b979d928e98b443e34fbeee8070ee12bcbe16d4693bbc70425e0cf6d74cfc08337e21c2c1968a3c922f845667693dd7b9049d7b06a7946c2a2a9503a3d327736f6a5911fdd2f10314e73cc8240a1f4cc595819d5d0872effeb7d1e6bc30b7c9a07af211d65904e566d9dd539617f4ede2e455bc2ec4b483dfc20867755a6cb1484186f695d003d0bb22662cdbfd82b51a965e063443a470af1178b72693e06ae762feabf0137b2b774a855363d5b85da36be9911d6b8e12f1ff3045355dc7b8ce84924345643725,kepler-exoplanet-search-results:https%3A%2F%2Fstorage.googleapis.com%2Fkaggle-data-sets%2F2894%2F4877%2Fbundle%2Farchive.zip%3FX-Goog-Algorithm%3DGOOG4-RSA-SHA256%26X-Goog-Credential%3Dgcp-kaggle-com%2540kaggle-161607.iam.gserviceaccount.com%252F20241013%252Fauto%252Fstorage%252Fgoog4_request%26X-Goog-Date%3D20241013T093751Z%26X-Goog-Expires%3D259200%26X-Goog-SignedHeaders%3Dhost%26X-Goog-Signature%3D4dfd2f88693ba1b13a515bc416119d1999a277b3d3986b558bd35e4c1f54d0291292ef3dd0a21a4b4424e29877ac0ea8678633efdcbc501330dbbd4f743fb7da85a2dbb9499656a72aaddbdbdd0847a220e6134c224780a79eed8c492bfad73c466b41cf604cf78a908b3f7201380aa9e8f34d9dd99aa3706fe83f5caeb3f7fb98c9abafbf9bd542f2d24f8df19cecad7d1a9719b7949b939dec034c53e6fa476d2a10a3f705f66ba1611484dcb66292ab8d7fb385927bcb25678b5e706f7701683e2f505160e58c309ab3e1e3b5cc6e80ddc6c00a9f392dc0707fd9533012697256c1d27c603bd22a83a43f4312dc39d9465624879ac79bf7a1284ebb2a0102,things-on-reddit:https%3A%2F%2Fstorage.googleapis.com%2Fkaggle-data-sets%2F3491%2F5624%2Fbundle%2Farchive.zip%3FX-Goog-Algorithm%3DGOOG4-RSA-SHA256%26X-Goog-Credential%3Dgcp-kaggle-com%2540kaggle-161607.iam.gserviceaccount.com%252F20241013%252Fauto%252Fstorage%252Fgoog4_request%26X-Goog-Date%3D20241013T093751Z%26X-Goog-Expires%3D259200%26X-Goog-SignedHeaders%3Dhost%26X-Goog-Signature%3D03d5a9b48a3f84963564fe0426dd68990ed7121731b42206d45f2be4d9f89b1eb9a8207cbc3ff0e8f67656d0898671ad855848eda103c0932d72a25e1ba8f7a1f9d2be60c4ff39278d7a2b01534257056f624b4b6efa83ddcfe659f255e3494de23c7bce321b670a17d7758310c7b52245753149841d446f42b40cd891546525767d1cd9b49ce62320e90b686ef335ebcfb845017eafbbc24107b854f742fe889b29c096ae340e14e3d6099021d77e74385336306151166cd3e488d8841a55e910a32fab9f72095c853cda18a4daf9b13ee786f0463d9261f27f3673b7d499023b8dee4e52b7831903d9df470978d3bdbecc03a350ddfef086ddcf8780526c43,wine-reviews:https%3A%2F%2Fstorage.googleapis.com%2Fkaggle-data-sets%2F1442%2F8172%2Fbundle%2Farchive.zip%3FX-Goog-Algorithm%3DGOOG4-RSA-SHA256%26X-Goog-Credential%3Dgcp-kaggle-com%2540kaggle-161607.iam.gserviceaccount.com%252F20241013%252Fauto%252Fstorage%252Fgoog4_request%26X-Goog-Date%3D20241013T093751Z%26X-Goog-Expires%3D259200%26X-Goog-SignedHeaders%3Dhost%26X-Goog-Signature%3D448539f49d1ccb3e047996f6b00290dda6155448ac317db09a5cb3149abceb3f475e112a3622cbd86a0d3545c1286c66fb20aeabb13bf95909b2a6e8c87d054aff59fb42147bbfdd5483254cd05b2b7c116bd13a165dc4e3c46ee5662d2dec2e9a7c292264c332db48ced68287cec2b45746dfca056743ef259889ee7bfb52200a5a96946d5b6d3fa946abcbde271c83db61d17e9721eaf59a0633bc8f6c61b74bf5f2e7bb4636cb42039b6930c685aab2ee3d80baad313be86ef065701bf43491389cc302ba8d9e6d0aef1f094f5e3f02a3a67123f96434240fdb269523539e64a890a4104670bd70416a96afbfc27a51e8467f177b614c7a161a4010364335,ramen-ratings:https%3A%2F%2Fstorage.googleapis.com%2Fkaggle-data-sets%2F9366%2F13206%2Fbundle%2Farchive.zip%3FX-Goog-Algorithm%3DGOOG4-RSA-SHA256%26X-Goog-Credential%3Dgcp-kaggle-com%2540kaggle-161607.iam.gserviceaccount.com%252F20241013%252Fauto%252Fstorage%252Fgoog4_request%26X-Goog-Date%3D20241013T093751Z%26X-Goog-Expires%3D259200%26X-Goog-SignedHeaders%3Dhost%26X-Goog-Signature%3D38c88a680b439fcf531b784c47cf7cc283ae2057dd2fb52019216798309a76cd478e80746861f38afe5e118796d29857f6f569db6c2a31288129a0200973019e74dc59120d6c7fbee3bb01a9b676526a782895e00d01d66d11e8008c7ba65a4e960dfd3b2cc637fe19db17a3bc2c69147b8583c0aba6c4f18d3c2e22d0fc62d1cfab417666eb9833182a69415048ddad119dc7f5eabec2afdbcb8771af933ee1aa90b763838b1006043376819c12c0270c06ca666884b367789e7159d5e8ff808d0a821a1aedd09b5fbbd0ff5aa76728a6858606ebbccbd594a56cd8f22460e2b84b13bb1ec6ba1e45ec02da2df7c3a856a6129a92da900930a92e6fb0c693d6,powerlifting-database:https%3A%2F%2Fstorage.googleapis.com%2Fkaggle-data-sets%2F179555%2F403916%2Fbundle%2Farchive.zip%3FX-Goog-Algorithm%3DGOOG4-RSA-SHA256%26X-Goog-Credential%3Dgcp-kaggle-com%2540kaggle-161607.iam.gserviceaccount.com%252F20241013%252Fauto%252Fstorage%252Fgoog4_request%26X-Goog-Date%3D20241013T093751Z%26X-Goog-Expires%3D259200%26X-Goog-SignedHeaders%3Dhost%26X-Goog-Signature%3D128b86066981cb5fd20de0a6d85f5958cbc22e5d6dd868fd604e509dcaa51e944791bc33a805f738243b44ac0580210f4d778029f2382534ec751df84ad5e880de08b0dc42ca3ea3b3d1823e75fcd4cf8fecbc0259caf947850cad159c2f53ad11278ae9996cfe35a9a241bb27a62f97a8a005d78f82aa5547b931898daae646754a944b38922d490116f1b0974e9b99240e476cb3d0258b1d1ea969e97eb5fd0b7164d4d87e459d6615b3471c89c600507ae0fae8892d893a53f72e7d1f65fa6ce685f46ce31a2469d4ef88c4fc3fb5f779cfac9bf9464f5b4833c26c4b2cf2c40d444c2c1e9e5b130b868b960719594665b46230d5deff151becc7b5269d00,youtube-new:https%3A%2F%2Fstorage.googleapis.com%2Fkaggle-data-sets%2F4549%2F466349%2Fbundle%2Farchive.zip%3FX-Goog-Algorithm%3DGOOG4-RSA-SHA256%26X-Goog-Credential%3Dgcp-kaggle-com%2540kaggle-161607.iam.gserviceaccount.com%252F20241013%252Fauto%252Fstorage%252Fgoog4_request%26X-Goog-Date%3D20241013T093751Z%26X-Goog-Expires%3D259200%26X-Goog-SignedHeaders%3Dhost%26X-Goog-Signature%3D1649b2dec90a0c902fa73573824c51ddf9587f3d331a91e3dd08ec2ba6f0712969fb43fffdcb0e51114288c2c288d81a6fa09c2024440abd64ae7f625fb39bb568f8c102c772001fcadf05bc608b54028f4445cbeb5470b850677402e4bf5e4242c9e068d072cd7aae373f64cb60dcea3f1a9fd11e5d77548f56a33d6bbc8acd1f08494cdc1d9f206675436ad691822addadfc82214c1f51227fa03c5fc03ca5d5ac4358f36a268ac7b6787e659a790c45263fd33d78f10647df786a22b660fb41afb1a9677aa599a60b7895aae72292692d20ccf09acd07f967e6bff20838f173181de3a956a9e174c5f3ae472a6ddb3e27cb710cb46036e116a3751bdba97a,188-million-us-wildfires:https%3A%2F%2Fstorage.googleapis.com%2Fkaggle-data-sets%2F2478%2F1151655%2Fbundle%2Farchive.zip%3FX-Goog-Algorithm%3DGOOG4-RSA-SHA256%26X-Goog-Credential%3Dgcp-kaggle-com%2540kaggle-161607.iam.gserviceaccount.com%252F20241013%252Fauto%252Fstorage%252Fgoog4_request%26X-Goog-Date%3D20241013T093752Z%26X-Goog-Expires%3D259200%26X-Goog-SignedHeaders%3Dhost%26X-Goog-Signature%3D681bddbb2815d79584c509251f0bdac494665eae29a8f523fb3fc1cfac6767a3d2b4d598c0e4836a43f5766f626bc929b5760c99334116d1fb65fac0bb58e3eb92c5b9c024efb76497da69045850cf1faad645a929112fa0085ff24219679a78ff929f52e03ba47fe875af626160375982a50aedf9de229fe700349ff1295871654d745c65f3753a1421a38bd413f8dfe7f298b51bfaacf5fd38c3ae5d9908a3bd391c3ce40b20bd4b1cf4faabb62beee28a71e9337ac97047d3ba140521b7bd47bce45e3c135d9005f6be3dcd28d6a2044b6f6e025cf3bbd4a8b11e127c1c985b03474df56658832af28d9d6f4d8df934e10a12d4e558cd4ae26f4fa37d3791,publicassistance:https%3A%2F%2Fstorage.googleapis.com%2Fkaggle-data-sets%2F10128%2F5438389%2Fbundle%2Farchive.zip%3FX-Goog-Algorithm%3DGOOG4-RSA-SHA256%26X-Goog-Credential%3Dgcp-kaggle-com%2540kaggle-161607.iam.gserviceaccount.com%252F20241013%252Fauto%252Fstorage%252Fgoog4_request%26X-Goog-Date%3D20241013T093752Z%26X-Goog-Expires%3D259200%26X-Goog-SignedHeaders%3Dhost%26X-Goog-Signature%3D92c866a5ade7c04b4b3cd30a498cfda02db988609f7a0926bb8d77ee8c83e2852af9a5007b3c5286dc1c88b30fba64b10bff56469b93eaa4569b525f9831876cf505af5e08d5b785908e2f7f352e7bc52b61c7acfb90667c10bd40b2709ea41741ba6ad481154d88e8b8fa0b0d43c6d553a6e677fe71713fed72531aaf5ccc5401337f56b4b96a28dd86c21c3aa193c8ef0519533863033c2b1171ea7ec9f877f826fc07e1f5d24b1a86fa363a13bb5d775dfa0ec88d26db883a8aeb96a7995487840e91c4a73a1ba3ee32fa265b22e71169774ce3a62396e4c13561fd31e046683718b3185b28e1537d3cbcdd5a680b8d4e335e6152a406693cd298147e969c'\n",
        "\n",
        "KAGGLE_INPUT_PATH='/kaggle/input'\n",
        "KAGGLE_WORKING_PATH='/kaggle/working'\n",
        "KAGGLE_SYMLINK='kaggle'\n",
        "\n",
        "!umount /kaggle/input/ 2> /dev/null\n",
        "shutil.rmtree('/kaggle/input', ignore_errors=True)\n",
        "os.makedirs(KAGGLE_INPUT_PATH, 0o777, exist_ok=True)\n",
        "os.makedirs(KAGGLE_WORKING_PATH, 0o777, exist_ok=True)\n",
        "\n",
        "try:\n",
        "  os.symlink(KAGGLE_INPUT_PATH, os.path.join(\"..\", 'input'), target_is_directory=True)\n",
        "except FileExistsError:\n",
        "  pass\n",
        "try:\n",
        "  os.symlink(KAGGLE_WORKING_PATH, os.path.join(\"..\", 'working'), target_is_directory=True)\n",
        "except FileExistsError:\n",
        "  pass\n",
        "\n",
        "for data_source_mapping in DATA_SOURCE_MAPPING.split(','):\n",
        "    directory, download_url_encoded = data_source_mapping.split(':')\n",
        "    download_url = unquote(download_url_encoded)\n",
        "    filename = urlparse(download_url).path\n",
        "    destination_path = os.path.join(KAGGLE_INPUT_PATH, directory)\n",
        "    try:\n",
        "        with urlopen(download_url) as fileres, NamedTemporaryFile() as tfile:\n",
        "            total_length = fileres.headers['content-length']\n",
        "            print(f'Downloading {directory}, {total_length} bytes compressed')\n",
        "            dl = 0\n",
        "            data = fileres.read(CHUNK_SIZE)\n",
        "            while len(data) > 0:\n",
        "                dl += len(data)\n",
        "                tfile.write(data)\n",
        "                done = int(50 * dl / int(total_length))\n",
        "                sys.stdout.write(f\"\\r[{'=' * done}{' ' * (50-done)}] {dl} bytes downloaded\")\n",
        "                sys.stdout.flush()\n",
        "                data = fileres.read(CHUNK_SIZE)\n",
        "            if filename.endswith('.zip'):\n",
        "              with ZipFile(tfile) as zfile:\n",
        "                zfile.extractall(destination_path)\n",
        "            else:\n",
        "              with tarfile.open(tfile.name) as tarfile:\n",
        "                tarfile.extractall(destination_path)\n",
        "            print(f'\\nDownloaded and uncompressed: {directory}')\n",
        "    except HTTPError as e:\n",
        "        print(f'Failed to load (likely expired) {download_url} to path {destination_path}')\n",
        "        continue\n",
        "    except OSError as e:\n",
        "        print(f'Failed to load {download_url} to path {destination_path}')\n",
        "        continue\n",
        "\n",
        "print('Data source import complete.')\n"
      ],
      "metadata": {
        "id": "hgjOXRQiPYJe"
      },
      "cell_type": "code",
      "outputs": [],
      "execution_count": null
    },
    {
      "cell_type": "markdown",
      "source": [
        "**This notebook is an exercise in the [Pandas](https://www.kaggle.com/learn/pandas) course.  You can reference the tutorial at [this link](https://www.kaggle.com/residentmario/indexing-selecting-assigning).**\n",
        "\n",
        "---\n"
      ],
      "metadata": {
        "id": "tgYGDUhDPYJg"
      }
    },
    {
      "cell_type": "markdown",
      "source": [
        "# Introduction\n",
        "\n",
        "In this set of exercises we will work with the [Wine Reviews dataset](https://www.kaggle.com/zynicide/wine-reviews)."
      ],
      "metadata": {
        "id": "j3x79L91PYJh"
      }
    },
    {
      "cell_type": "markdown",
      "source": [
        "Run the following cell to load your data and some utility functions (including code to check your answers)."
      ],
      "metadata": {
        "id": "Ad_MC211PYJh"
      }
    },
    {
      "cell_type": "code",
      "source": [
        "import pandas as pd\n",
        "\n",
        "reviews = pd.read_csv(\"../input/wine-reviews/winemag-data-130k-v2.csv\", index_col=0)\n",
        "pd.set_option(\"display.max_rows\", 5)\n",
        "\n",
        "from learntools.core import binder; binder.bind(globals())\n",
        "from learntools.pandas.indexing_selecting_and_assigning import *\n",
        "print(\"Setup complete.\")"
      ],
      "metadata": {
        "execution": {
          "iopub.status.busy": "2024-10-13T09:20:01.520772Z",
          "iopub.execute_input": "2024-10-13T09:20:01.521239Z",
          "iopub.status.idle": "2024-10-13T09:20:06.482618Z",
          "shell.execute_reply.started": "2024-10-13T09:20:01.52119Z",
          "shell.execute_reply": "2024-10-13T09:20:06.481145Z"
        },
        "trusted": true,
        "id": "AH0XYuI8PYJh",
        "outputId": "e0b02e4b-738a-4074-af48-585371a1f562"
      },
      "execution_count": null,
      "outputs": [
        {
          "name": "stdout",
          "text": "Setup complete.\n",
          "output_type": "stream"
        }
      ]
    },
    {
      "cell_type": "markdown",
      "source": [
        "Look at an overview of your data by running the following line."
      ],
      "metadata": {
        "id": "zLDNLNJnPYJi"
      }
    },
    {
      "cell_type": "code",
      "source": [
        "reviews.head()"
      ],
      "metadata": {
        "execution": {
          "iopub.status.busy": "2024-10-13T09:20:23.017045Z",
          "iopub.execute_input": "2024-10-13T09:20:23.01752Z",
          "iopub.status.idle": "2024-10-13T09:20:23.047764Z",
          "shell.execute_reply.started": "2024-10-13T09:20:23.017475Z",
          "shell.execute_reply": "2024-10-13T09:20:23.046337Z"
        },
        "trusted": true,
        "id": "kUqzqpLkPYJi",
        "outputId": "189f9d86-8711-4654-8072-a36747924e29"
      },
      "execution_count": null,
      "outputs": [
        {
          "execution_count": 2,
          "output_type": "execute_result",
          "data": {
            "text/plain": "    country                                        description  \\\n0     Italy  Aromas include tropical fruit, broom, brimston...   \n1  Portugal  This is ripe and fruity, a wine that is smooth...   \n2        US  Tart and snappy, the flavors of lime flesh and...   \n3        US  Pineapple rind, lemon pith and orange blossom ...   \n4        US  Much like the regular bottling from 2012, this...   \n\n                          designation  points  price           province  \\\n0                        Vulkà Bianco      87    NaN  Sicily & Sardinia   \n1                            Avidagos      87   15.0              Douro   \n2                                 NaN      87   14.0             Oregon   \n3                Reserve Late Harvest      87   13.0           Michigan   \n4  Vintner's Reserve Wild Child Block      87   65.0             Oregon   \n\n              region_1           region_2         taster_name  \\\n0                 Etna                NaN       Kerin O’Keefe   \n1                  NaN                NaN          Roger Voss   \n2    Willamette Valley  Willamette Valley        Paul Gregutt   \n3  Lake Michigan Shore                NaN  Alexander Peartree   \n4    Willamette Valley  Willamette Valley        Paul Gregutt   \n\n  taster_twitter_handle                                              title  \\\n0          @kerinokeefe                  Nicosia 2013 Vulkà Bianco  (Etna)   \n1            @vossroger      Quinta dos Avidagos 2011 Avidagos Red (Douro)   \n2           @paulgwine       Rainstorm 2013 Pinot Gris (Willamette Valley)   \n3                   NaN  St. Julian 2013 Reserve Late Harvest Riesling ...   \n4           @paulgwine   Sweet Cheeks 2012 Vintner's Reserve Wild Child...   \n\n          variety               winery  \n0     White Blend              Nicosia  \n1  Portuguese Red  Quinta dos Avidagos  \n2      Pinot Gris            Rainstorm  \n3        Riesling           St. Julian  \n4      Pinot Noir         Sweet Cheeks  ",
            "text/html": "<div>\n<style scoped>\n    .dataframe tbody tr th:only-of-type {\n        vertical-align: middle;\n    }\n\n    .dataframe tbody tr th {\n        vertical-align: top;\n    }\n\n    .dataframe thead th {\n        text-align: right;\n    }\n</style>\n<table border=\"1\" class=\"dataframe\">\n  <thead>\n    <tr style=\"text-align: right;\">\n      <th></th>\n      <th>country</th>\n      <th>description</th>\n      <th>designation</th>\n      <th>points</th>\n      <th>price</th>\n      <th>province</th>\n      <th>region_1</th>\n      <th>region_2</th>\n      <th>taster_name</th>\n      <th>taster_twitter_handle</th>\n      <th>title</th>\n      <th>variety</th>\n      <th>winery</th>\n    </tr>\n  </thead>\n  <tbody>\n    <tr>\n      <th>0</th>\n      <td>Italy</td>\n      <td>Aromas include tropical fruit, broom, brimston...</td>\n      <td>Vulkà Bianco</td>\n      <td>87</td>\n      <td>NaN</td>\n      <td>Sicily &amp; Sardinia</td>\n      <td>Etna</td>\n      <td>NaN</td>\n      <td>Kerin O’Keefe</td>\n      <td>@kerinokeefe</td>\n      <td>Nicosia 2013 Vulkà Bianco  (Etna)</td>\n      <td>White Blend</td>\n      <td>Nicosia</td>\n    </tr>\n    <tr>\n      <th>1</th>\n      <td>Portugal</td>\n      <td>This is ripe and fruity, a wine that is smooth...</td>\n      <td>Avidagos</td>\n      <td>87</td>\n      <td>15.0</td>\n      <td>Douro</td>\n      <td>NaN</td>\n      <td>NaN</td>\n      <td>Roger Voss</td>\n      <td>@vossroger</td>\n      <td>Quinta dos Avidagos 2011 Avidagos Red (Douro)</td>\n      <td>Portuguese Red</td>\n      <td>Quinta dos Avidagos</td>\n    </tr>\n    <tr>\n      <th>2</th>\n      <td>US</td>\n      <td>Tart and snappy, the flavors of lime flesh and...</td>\n      <td>NaN</td>\n      <td>87</td>\n      <td>14.0</td>\n      <td>Oregon</td>\n      <td>Willamette Valley</td>\n      <td>Willamette Valley</td>\n      <td>Paul Gregutt</td>\n      <td>@paulgwine</td>\n      <td>Rainstorm 2013 Pinot Gris (Willamette Valley)</td>\n      <td>Pinot Gris</td>\n      <td>Rainstorm</td>\n    </tr>\n    <tr>\n      <th>3</th>\n      <td>US</td>\n      <td>Pineapple rind, lemon pith and orange blossom ...</td>\n      <td>Reserve Late Harvest</td>\n      <td>87</td>\n      <td>13.0</td>\n      <td>Michigan</td>\n      <td>Lake Michigan Shore</td>\n      <td>NaN</td>\n      <td>Alexander Peartree</td>\n      <td>NaN</td>\n      <td>St. Julian 2013 Reserve Late Harvest Riesling ...</td>\n      <td>Riesling</td>\n      <td>St. Julian</td>\n    </tr>\n    <tr>\n      <th>4</th>\n      <td>US</td>\n      <td>Much like the regular bottling from 2012, this...</td>\n      <td>Vintner's Reserve Wild Child Block</td>\n      <td>87</td>\n      <td>65.0</td>\n      <td>Oregon</td>\n      <td>Willamette Valley</td>\n      <td>Willamette Valley</td>\n      <td>Paul Gregutt</td>\n      <td>@paulgwine</td>\n      <td>Sweet Cheeks 2012 Vintner's Reserve Wild Child...</td>\n      <td>Pinot Noir</td>\n      <td>Sweet Cheeks</td>\n    </tr>\n  </tbody>\n</table>\n</div>"
          },
          "metadata": {}
        }
      ]
    },
    {
      "cell_type": "markdown",
      "source": [
        "# Exercises"
      ],
      "metadata": {
        "id": "VS67xSbrPYJi"
      }
    },
    {
      "cell_type": "markdown",
      "source": [
        "## 1.\n",
        "\n",
        "Select the `description` column from `reviews` and assign the result to the variable `desc`."
      ],
      "metadata": {
        "id": "P32CWTyVPYJi"
      }
    },
    {
      "cell_type": "code",
      "source": [
        "# Your code here\n",
        "desc = reviews.description\n",
        "\n",
        "# Check your answer\n",
        "q1.check()"
      ],
      "metadata": {
        "execution": {
          "iopub.status.busy": "2024-10-13T09:21:16.62109Z",
          "iopub.execute_input": "2024-10-13T09:21:16.621529Z",
          "iopub.status.idle": "2024-10-13T09:21:16.6343Z",
          "shell.execute_reply.started": "2024-10-13T09:21:16.621489Z",
          "shell.execute_reply": "2024-10-13T09:21:16.633019Z"
        },
        "trusted": true,
        "id": "Nf9GGgOZPYJj",
        "outputId": "2916e957-9c40-44d2-c0bd-b5cb263a23e8"
      },
      "execution_count": null,
      "outputs": [
        {
          "output_type": "display_data",
          "data": {
            "text/plain": "<IPython.core.display.Javascript object>",
            "application/javascript": "parent.postMessage({\"jupyterEvent\": \"custom.exercise_interaction\", \"data\": {\"outcomeType\": 1, \"valueTowardsCompletion\": 0.1111111111111111, \"interactionType\": 1, \"questionType\": 1, \"questionId\": \"1_SelectDescCol\", \"learnToolsVersion\": \"0.3.4\", \"failureMessage\": \"\", \"exceptionClass\": \"\", \"trace\": \"\"}}, \"*\")"
          },
          "metadata": {}
        },
        {
          "output_type": "display_data",
          "data": {
            "text/plain": "Correct",
            "text/markdown": "<span style=\"color:#33cc33\">Correct</span>"
          },
          "metadata": {}
        }
      ]
    },
    {
      "cell_type": "markdown",
      "source": [
        "Follow-up question: what type of object is `desc`? If you're not sure, you can check by calling Python's `type` function: `type(desc)`."
      ],
      "metadata": {
        "id": "EQwFXl9iPYJj"
      }
    },
    {
      "cell_type": "code",
      "source": [
        "#q1.hint()\n",
        "#q1.solution()"
      ],
      "metadata": {
        "id": "z6eLbK_HPYJj"
      },
      "execution_count": null,
      "outputs": []
    },
    {
      "cell_type": "markdown",
      "source": [
        "## 2.\n",
        "\n",
        "Select the first value from the description column of `reviews`, assigning it to variable `first_description`."
      ],
      "metadata": {
        "id": "MHscEa67PYJj"
      }
    },
    {
      "cell_type": "code",
      "source": [
        "first_description = reviews.description.iloc[0]\n",
        "\n",
        "# Check your answer\n",
        "q2.check()\n",
        "first_description"
      ],
      "metadata": {
        "execution": {
          "iopub.status.busy": "2024-10-13T09:22:05.071663Z",
          "iopub.execute_input": "2024-10-13T09:22:05.072111Z",
          "iopub.status.idle": "2024-10-13T09:22:05.08486Z",
          "shell.execute_reply.started": "2024-10-13T09:22:05.072071Z",
          "shell.execute_reply": "2024-10-13T09:22:05.083639Z"
        },
        "trusted": true,
        "id": "JVPLPHGEPYJj",
        "outputId": "72d3ec21-ad67-4e1b-b4ac-c6fe9b281277"
      },
      "execution_count": null,
      "outputs": [
        {
          "output_type": "display_data",
          "data": {
            "text/plain": "<IPython.core.display.Javascript object>",
            "application/javascript": "parent.postMessage({\"jupyterEvent\": \"custom.exercise_interaction\", \"data\": {\"outcomeType\": 1, \"valueTowardsCompletion\": 0.1111111111111111, \"interactionType\": 1, \"questionType\": 1, \"questionId\": \"2_FirstDesc\", \"learnToolsVersion\": \"0.3.4\", \"failureMessage\": \"\", \"exceptionClass\": \"\", \"trace\": \"\"}}, \"*\")"
          },
          "metadata": {}
        },
        {
          "output_type": "display_data",
          "data": {
            "text/plain": "Correct: \n\n\n```python\nfirst_description = reviews.description.iloc[0]\n```\nNote that while this is the preferred way to obtain the entry in the DataFrame, many other options will return a valid result, such as `reviews.description.loc[0]`, `reviews.description[0]`, and more!  ",
            "text/markdown": "<span style=\"color:#33cc33\">Correct:</span> \n\n\n```python\nfirst_description = reviews.description.iloc[0]\n```\nNote that while this is the preferred way to obtain the entry in the DataFrame, many other options will return a valid result, such as `reviews.description.loc[0]`, `reviews.description[0]`, and more!  \n"
          },
          "metadata": {}
        },
        {
          "execution_count": 5,
          "output_type": "execute_result",
          "data": {
            "text/plain": "\"Aromas include tropical fruit, broom, brimstone and dried herb. The palate isn't overly expressive, offering unripened apple, citrus and dried sage alongside brisk acidity.\""
          },
          "metadata": {}
        }
      ]
    },
    {
      "cell_type": "code",
      "source": [
        "#q2.hint()\n",
        "#q2.solution()"
      ],
      "metadata": {
        "id": "7Wk0J2QqPYJj"
      },
      "execution_count": null,
      "outputs": []
    },
    {
      "cell_type": "markdown",
      "source": [
        "## 3.\n",
        "\n",
        "Select the first row of data (the first record) from `reviews`, assigning it to the variable `first_row`."
      ],
      "metadata": {
        "id": "QWKRcX7NPYJk"
      }
    },
    {
      "cell_type": "code",
      "source": [
        "first_row = reviews.iloc[0]\n",
        "\n",
        "# Check your answer\n",
        "q3.check()\n",
        "first_row"
      ],
      "metadata": {
        "execution": {
          "iopub.status.busy": "2024-10-13T09:23:34.476465Z",
          "iopub.execute_input": "2024-10-13T09:23:34.476944Z",
          "iopub.status.idle": "2024-10-13T09:23:34.494386Z",
          "shell.execute_reply.started": "2024-10-13T09:23:34.476899Z",
          "shell.execute_reply": "2024-10-13T09:23:34.49305Z"
        },
        "trusted": true,
        "id": "wLvA9k94PYJk",
        "outputId": "2d90ea72-9dc0-4e06-8283-367840a3dba0"
      },
      "execution_count": null,
      "outputs": [
        {
          "output_type": "display_data",
          "data": {
            "text/plain": "<IPython.core.display.Javascript object>",
            "application/javascript": "parent.postMessage({\"jupyterEvent\": \"custom.exercise_interaction\", \"data\": {\"outcomeType\": 1, \"valueTowardsCompletion\": 0.1111111111111111, \"interactionType\": 1, \"questionType\": 1, \"questionId\": \"3_FirstRow\", \"learnToolsVersion\": \"0.3.4\", \"failureMessage\": \"\", \"exceptionClass\": \"\", \"trace\": \"\"}}, \"*\")"
          },
          "metadata": {}
        },
        {
          "output_type": "display_data",
          "data": {
            "text/plain": "Correct",
            "text/markdown": "<span style=\"color:#33cc33\">Correct</span>"
          },
          "metadata": {}
        },
        {
          "execution_count": 7,
          "output_type": "execute_result",
          "data": {
            "text/plain": "country                                                    Italy\ndescription    Aromas include tropical fruit, broom, brimston...\n                                     ...                        \nvariety                                              White Blend\nwinery                                                   Nicosia\nName: 0, Length: 13, dtype: object"
          },
          "metadata": {}
        }
      ]
    },
    {
      "cell_type": "code",
      "source": [
        "#q3.hint()\n",
        "q3.solution()"
      ],
      "metadata": {
        "execution": {
          "iopub.status.busy": "2024-10-13T09:22:49.188822Z",
          "iopub.execute_input": "2024-10-13T09:22:49.189321Z",
          "iopub.status.idle": "2024-10-13T09:22:49.200576Z",
          "shell.execute_reply.started": "2024-10-13T09:22:49.189273Z",
          "shell.execute_reply": "2024-10-13T09:22:49.198942Z"
        },
        "trusted": true,
        "id": "gs6jn75NPYJk",
        "outputId": "d6de5d06-dcbd-474e-83e0-1e2ea3364c02"
      },
      "execution_count": null,
      "outputs": [
        {
          "output_type": "display_data",
          "data": {
            "text/plain": "<IPython.core.display.Javascript object>",
            "application/javascript": "parent.postMessage({\"jupyterEvent\": \"custom.exercise_interaction\", \"data\": {\"interactionType\": 3, \"questionType\": 1, \"questionId\": \"3_FirstRow\", \"learnToolsVersion\": \"0.3.4\", \"valueTowardsCompletion\": 0.0, \"failureMessage\": \"\", \"exceptionClass\": \"\", \"trace\": \"\", \"outcomeType\": 4}}, \"*\")"
          },
          "metadata": {}
        },
        {
          "output_type": "display_data",
          "data": {
            "text/plain": "Solution: \n```python\nfirst_row = reviews.iloc[0]\n```",
            "text/markdown": "<span style=\"color:#33cc99\">Solution:</span> \n```python\nfirst_row = reviews.iloc[0]\n```"
          },
          "metadata": {}
        }
      ]
    },
    {
      "cell_type": "markdown",
      "source": [
        "## 4.\n",
        "\n",
        "Select the first 10 values from the `description` column in `reviews`, assigning the result to variable `first_descriptions`.\n",
        "\n",
        "Hint: format your output as a pandas Series."
      ],
      "metadata": {
        "id": "Vi7mHkZaPYJk"
      }
    },
    {
      "cell_type": "code",
      "source": [
        "first_descriptions = reviews.description.iloc[0:10]\n",
        "\n",
        "# Check your answer\n",
        "q4.check()\n",
        "first_descriptions"
      ],
      "metadata": {
        "execution": {
          "iopub.status.busy": "2024-10-13T09:24:18.500336Z",
          "iopub.execute_input": "2024-10-13T09:24:18.500807Z",
          "iopub.status.idle": "2024-10-13T09:24:18.518348Z",
          "shell.execute_reply.started": "2024-10-13T09:24:18.500761Z",
          "shell.execute_reply": "2024-10-13T09:24:18.516379Z"
        },
        "trusted": true,
        "id": "8-3YIAxWPYJk",
        "outputId": "a4220259-ce92-4ff8-c347-4331a0a7ed46"
      },
      "execution_count": null,
      "outputs": [
        {
          "output_type": "display_data",
          "data": {
            "text/plain": "<IPython.core.display.Javascript object>",
            "application/javascript": "parent.postMessage({\"jupyterEvent\": \"custom.exercise_interaction\", \"data\": {\"outcomeType\": 1, \"valueTowardsCompletion\": 0.1111111111111111, \"interactionType\": 1, \"questionType\": 1, \"questionId\": \"4_FirstDescs\", \"learnToolsVersion\": \"0.3.4\", \"failureMessage\": \"\", \"exceptionClass\": \"\", \"trace\": \"\"}}, \"*\")"
          },
          "metadata": {}
        },
        {
          "output_type": "display_data",
          "data": {
            "text/plain": "Correct: \n\n\n```python\nfirst_descriptions = reviews.description.iloc[:10]\n```\nNote that many other options will return a valid result, such as `desc.head(10)` and `reviews.loc[:9, \"description\"]`.    ",
            "text/markdown": "<span style=\"color:#33cc33\">Correct:</span> \n\n\n```python\nfirst_descriptions = reviews.description.iloc[:10]\n```\nNote that many other options will return a valid result, such as `desc.head(10)` and `reviews.loc[:9, \"description\"]`.    \n"
          },
          "metadata": {}
        },
        {
          "execution_count": 8,
          "output_type": "execute_result",
          "data": {
            "text/plain": "0    Aromas include tropical fruit, broom, brimston...\n1    This is ripe and fruity, a wine that is smooth...\n                           ...                        \n8    Savory dried thyme notes accent sunnier flavor...\n9    This has great depth of flavor with its fresh ...\nName: description, Length: 10, dtype: object"
          },
          "metadata": {}
        }
      ]
    },
    {
      "cell_type": "code",
      "source": [
        "#q4.hint()\n",
        "#q4.solution()"
      ],
      "metadata": {
        "id": "TUAuRkC1PYJk"
      },
      "execution_count": null,
      "outputs": []
    },
    {
      "cell_type": "markdown",
      "source": [
        "## 5.\n",
        "\n",
        "Select the records with index labels `1`, `2`, `3`, `5`, and `8`, assigning the result to the variable `sample_reviews`.\n",
        "\n",
        "In other words, generate the following DataFrame:\n",
        "\n",
        "![](https://storage.googleapis.com/kaggle-media/learn/images/sHZvI1O.png)"
      ],
      "metadata": {
        "id": "-NxlsyX5PYJk"
      }
    },
    {
      "cell_type": "code",
      "source": [
        "# i = [1, 2, 3, 5, 8]\n",
        "sample_reviews = reviews.loc[[1,2,3,5,8]]\n",
        "\n",
        "# Check your answer\n",
        "q5.check()\n",
        "sample_reviews"
      ],
      "metadata": {
        "execution": {
          "iopub.status.busy": "2024-10-13T09:27:07.67858Z",
          "iopub.execute_input": "2024-10-13T09:27:07.679Z",
          "iopub.status.idle": "2024-10-13T09:27:07.709684Z",
          "shell.execute_reply.started": "2024-10-13T09:27:07.67896Z",
          "shell.execute_reply": "2024-10-13T09:27:07.708511Z"
        },
        "trusted": true,
        "id": "WWSuT5dWPYJl",
        "outputId": "42269eb3-3c66-4788-e548-7e08c5ac2ac3"
      },
      "execution_count": null,
      "outputs": [
        {
          "output_type": "display_data",
          "data": {
            "text/plain": "<IPython.core.display.Javascript object>",
            "application/javascript": "parent.postMessage({\"jupyterEvent\": \"custom.exercise_interaction\", \"data\": {\"outcomeType\": 1, \"valueTowardsCompletion\": 0.1111111111111111, \"interactionType\": 1, \"questionType\": 1, \"questionId\": \"5_SampleReviews\", \"learnToolsVersion\": \"0.3.4\", \"failureMessage\": \"\", \"exceptionClass\": \"\", \"trace\": \"\"}}, \"*\")"
          },
          "metadata": {}
        },
        {
          "output_type": "display_data",
          "data": {
            "text/plain": "Correct",
            "text/markdown": "<span style=\"color:#33cc33\">Correct</span>"
          },
          "metadata": {}
        },
        {
          "execution_count": 14,
          "output_type": "execute_result",
          "data": {
            "text/plain": "    country                                        description  \\\n1  Portugal  This is ripe and fruity, a wine that is smooth...   \n2        US  Tart and snappy, the flavors of lime flesh and...   \n3        US  Pineapple rind, lemon pith and orange blossom ...   \n5     Spain  Blackberry and raspberry aromas show a typical...   \n8   Germany  Savory dried thyme notes accent sunnier flavor...   \n\n            designation  points  price        province             region_1  \\\n1              Avidagos      87   15.0           Douro                  NaN   \n2                   NaN      87   14.0          Oregon    Willamette Valley   \n3  Reserve Late Harvest      87   13.0        Michigan  Lake Michigan Shore   \n5          Ars In Vitro      87   15.0  Northern Spain              Navarra   \n8                 Shine      87   12.0     Rheinhessen                  NaN   \n\n            region_2         taster_name taster_twitter_handle  \\\n1                NaN          Roger Voss            @vossroger   \n2  Willamette Valley        Paul Gregutt           @paulgwine    \n3                NaN  Alexander Peartree                   NaN   \n5                NaN   Michael Schachner           @wineschach   \n8                NaN  Anna Lee C. Iijima                   NaN   \n\n                                               title             variety  \\\n1      Quinta dos Avidagos 2011 Avidagos Red (Douro)      Portuguese Red   \n2      Rainstorm 2013 Pinot Gris (Willamette Valley)          Pinot Gris   \n3  St. Julian 2013 Reserve Late Harvest Riesling ...            Riesling   \n5  Tandem 2011 Ars In Vitro Tempranillo-Merlot (N...  Tempranillo-Merlot   \n8  Heinz Eifel 2013 Shine Gewürztraminer (Rheinhe...      Gewürztraminer   \n\n                winery  \n1  Quinta dos Avidagos  \n2            Rainstorm  \n3           St. Julian  \n5               Tandem  \n8          Heinz Eifel  ",
            "text/html": "<div>\n<style scoped>\n    .dataframe tbody tr th:only-of-type {\n        vertical-align: middle;\n    }\n\n    .dataframe tbody tr th {\n        vertical-align: top;\n    }\n\n    .dataframe thead th {\n        text-align: right;\n    }\n</style>\n<table border=\"1\" class=\"dataframe\">\n  <thead>\n    <tr style=\"text-align: right;\">\n      <th></th>\n      <th>country</th>\n      <th>description</th>\n      <th>designation</th>\n      <th>points</th>\n      <th>price</th>\n      <th>province</th>\n      <th>region_1</th>\n      <th>region_2</th>\n      <th>taster_name</th>\n      <th>taster_twitter_handle</th>\n      <th>title</th>\n      <th>variety</th>\n      <th>winery</th>\n    </tr>\n  </thead>\n  <tbody>\n    <tr>\n      <th>1</th>\n      <td>Portugal</td>\n      <td>This is ripe and fruity, a wine that is smooth...</td>\n      <td>Avidagos</td>\n      <td>87</td>\n      <td>15.0</td>\n      <td>Douro</td>\n      <td>NaN</td>\n      <td>NaN</td>\n      <td>Roger Voss</td>\n      <td>@vossroger</td>\n      <td>Quinta dos Avidagos 2011 Avidagos Red (Douro)</td>\n      <td>Portuguese Red</td>\n      <td>Quinta dos Avidagos</td>\n    </tr>\n    <tr>\n      <th>2</th>\n      <td>US</td>\n      <td>Tart and snappy, the flavors of lime flesh and...</td>\n      <td>NaN</td>\n      <td>87</td>\n      <td>14.0</td>\n      <td>Oregon</td>\n      <td>Willamette Valley</td>\n      <td>Willamette Valley</td>\n      <td>Paul Gregutt</td>\n      <td>@paulgwine</td>\n      <td>Rainstorm 2013 Pinot Gris (Willamette Valley)</td>\n      <td>Pinot Gris</td>\n      <td>Rainstorm</td>\n    </tr>\n    <tr>\n      <th>3</th>\n      <td>US</td>\n      <td>Pineapple rind, lemon pith and orange blossom ...</td>\n      <td>Reserve Late Harvest</td>\n      <td>87</td>\n      <td>13.0</td>\n      <td>Michigan</td>\n      <td>Lake Michigan Shore</td>\n      <td>NaN</td>\n      <td>Alexander Peartree</td>\n      <td>NaN</td>\n      <td>St. Julian 2013 Reserve Late Harvest Riesling ...</td>\n      <td>Riesling</td>\n      <td>St. Julian</td>\n    </tr>\n    <tr>\n      <th>5</th>\n      <td>Spain</td>\n      <td>Blackberry and raspberry aromas show a typical...</td>\n      <td>Ars In Vitro</td>\n      <td>87</td>\n      <td>15.0</td>\n      <td>Northern Spain</td>\n      <td>Navarra</td>\n      <td>NaN</td>\n      <td>Michael Schachner</td>\n      <td>@wineschach</td>\n      <td>Tandem 2011 Ars In Vitro Tempranillo-Merlot (N...</td>\n      <td>Tempranillo-Merlot</td>\n      <td>Tandem</td>\n    </tr>\n    <tr>\n      <th>8</th>\n      <td>Germany</td>\n      <td>Savory dried thyme notes accent sunnier flavor...</td>\n      <td>Shine</td>\n      <td>87</td>\n      <td>12.0</td>\n      <td>Rheinhessen</td>\n      <td>NaN</td>\n      <td>NaN</td>\n      <td>Anna Lee C. Iijima</td>\n      <td>NaN</td>\n      <td>Heinz Eifel 2013 Shine Gewürztraminer (Rheinhe...</td>\n      <td>Gewürztraminer</td>\n      <td>Heinz Eifel</td>\n    </tr>\n  </tbody>\n</table>\n</div>"
          },
          "metadata": {}
        }
      ]
    },
    {
      "cell_type": "code",
      "source": [
        "#q5.hint()\n",
        "q5.solution()"
      ],
      "metadata": {
        "execution": {
          "iopub.status.busy": "2024-10-13T09:26:25.367767Z",
          "iopub.execute_input": "2024-10-13T09:26:25.368227Z",
          "iopub.status.idle": "2024-10-13T09:26:25.37751Z",
          "shell.execute_reply.started": "2024-10-13T09:26:25.368182Z",
          "shell.execute_reply": "2024-10-13T09:26:25.376309Z"
        },
        "trusted": true,
        "id": "Xv42PB4-PYJl",
        "outputId": "25b950ac-ac8d-426f-d70f-4a515e02c925"
      },
      "execution_count": null,
      "outputs": [
        {
          "output_type": "display_data",
          "data": {
            "text/plain": "<IPython.core.display.Javascript object>",
            "application/javascript": "parent.postMessage({\"jupyterEvent\": \"custom.exercise_interaction\", \"data\": {\"interactionType\": 3, \"questionType\": 1, \"questionId\": \"5_SampleReviews\", \"learnToolsVersion\": \"0.3.4\", \"valueTowardsCompletion\": 0.0, \"failureMessage\": \"\", \"exceptionClass\": \"\", \"trace\": \"\", \"outcomeType\": 4}}, \"*\")"
          },
          "metadata": {}
        },
        {
          "output_type": "display_data",
          "data": {
            "text/plain": "Solution: \n```python\nindices = [1, 2, 3, 5, 8]\nsample_reviews = reviews.loc[indices]\n```",
            "text/markdown": "<span style=\"color:#33cc99\">Solution:</span> \n```python\nindices = [1, 2, 3, 5, 8]\nsample_reviews = reviews.loc[indices]\n```"
          },
          "metadata": {}
        }
      ]
    },
    {
      "cell_type": "markdown",
      "source": [
        "## 6.\n",
        "\n",
        "Create a variable `df` containing the `country`, `province`, `region_1`, and `region_2` columns of the records with the index labels `0`, `1`, `10`, and `100`. In other words, generate the following DataFrame:\n",
        "\n",
        "![](https://storage.googleapis.com/kaggle-media/learn/images/FUCGiKP.png)"
      ],
      "metadata": {
        "id": "zl38Pf3ZPYJl"
      }
    },
    {
      "cell_type": "code",
      "source": [
        "df = reviews.loc[[0, 1, 10, 100], ['country', 'province', 'region_1', 'region_2']]\n",
        "\n",
        "# Check your answer\n",
        "q6.check()\n",
        "df"
      ],
      "metadata": {
        "execution": {
          "iopub.status.busy": "2024-10-13T09:29:25.372165Z",
          "iopub.execute_input": "2024-10-13T09:29:25.372625Z",
          "iopub.status.idle": "2024-10-13T09:29:25.400615Z",
          "shell.execute_reply.started": "2024-10-13T09:29:25.372581Z",
          "shell.execute_reply": "2024-10-13T09:29:25.399448Z"
        },
        "trusted": true,
        "id": "OpR1Iyx3PYJl",
        "outputId": "c2ce4b1b-6e43-40fb-b328-07cbc4edd69f"
      },
      "execution_count": null,
      "outputs": [
        {
          "output_type": "display_data",
          "data": {
            "text/plain": "<IPython.core.display.Javascript object>",
            "application/javascript": "parent.postMessage({\"jupyterEvent\": \"custom.exercise_interaction\", \"data\": {\"outcomeType\": 1, \"valueTowardsCompletion\": 0.1111111111111111, \"interactionType\": 1, \"questionType\": 1, \"questionId\": \"6_RowColSelect\", \"learnToolsVersion\": \"0.3.4\", \"failureMessage\": \"\", \"exceptionClass\": \"\", \"trace\": \"\"}}, \"*\")"
          },
          "metadata": {}
        },
        {
          "output_type": "display_data",
          "data": {
            "text/plain": "Correct",
            "text/markdown": "<span style=\"color:#33cc33\">Correct</span>"
          },
          "metadata": {}
        },
        {
          "execution_count": 15,
          "output_type": "execute_result",
          "data": {
            "text/plain": "      country           province      region_1      region_2\n0       Italy  Sicily & Sardinia          Etna           NaN\n1    Portugal              Douro           NaN           NaN\n10         US         California   Napa Valley          Napa\n100        US           New York  Finger Lakes  Finger Lakes",
            "text/html": "<div>\n<style scoped>\n    .dataframe tbody tr th:only-of-type {\n        vertical-align: middle;\n    }\n\n    .dataframe tbody tr th {\n        vertical-align: top;\n    }\n\n    .dataframe thead th {\n        text-align: right;\n    }\n</style>\n<table border=\"1\" class=\"dataframe\">\n  <thead>\n    <tr style=\"text-align: right;\">\n      <th></th>\n      <th>country</th>\n      <th>province</th>\n      <th>region_1</th>\n      <th>region_2</th>\n    </tr>\n  </thead>\n  <tbody>\n    <tr>\n      <th>0</th>\n      <td>Italy</td>\n      <td>Sicily &amp; Sardinia</td>\n      <td>Etna</td>\n      <td>NaN</td>\n    </tr>\n    <tr>\n      <th>1</th>\n      <td>Portugal</td>\n      <td>Douro</td>\n      <td>NaN</td>\n      <td>NaN</td>\n    </tr>\n    <tr>\n      <th>10</th>\n      <td>US</td>\n      <td>California</td>\n      <td>Napa Valley</td>\n      <td>Napa</td>\n    </tr>\n    <tr>\n      <th>100</th>\n      <td>US</td>\n      <td>New York</td>\n      <td>Finger Lakes</td>\n      <td>Finger Lakes</td>\n    </tr>\n  </tbody>\n</table>\n</div>"
          },
          "metadata": {}
        }
      ]
    },
    {
      "cell_type": "code",
      "source": [
        "#q6.hint()\n",
        "#q6.solution()"
      ],
      "metadata": {
        "id": "97JDLuykPYJl"
      },
      "execution_count": null,
      "outputs": []
    },
    {
      "cell_type": "markdown",
      "source": [
        "## 7.\n",
        "\n",
        "Create a variable `df` containing the `country` and `variety` columns of the first 100 records.\n",
        "\n",
        "Hint: you may use `loc` or `iloc`. When working on the answer this question and the several of the ones that follow, keep the following \"gotcha\" described in the tutorial:\n",
        "\n",
        "> `iloc` uses the Python stdlib indexing scheme, where the first element of the range is included and the last one excluded.\n",
        "`loc`, meanwhile, indexes inclusively.\n",
        "\n",
        "> This is particularly confusing when the DataFrame index is a simple numerical list, e.g. `0,...,1000`. In this case `df.iloc[0:1000]` will return 1000 entries, while `df.loc[0:1000]` return 1001 of them! To get 1000 elements using `loc`, you will need to go one lower and ask for `df.iloc[0:999]`."
      ],
      "metadata": {
        "id": "mw2TuAZLPYJl"
      }
    },
    {
      "cell_type": "code",
      "source": [
        "df = reviews.loc[:99, ['country', 'variety']]\n",
        "# Correct:\n",
        "\n",
        "# cols = ['country', 'variety']\n",
        "# df = reviews.loc[:99, cols]\n",
        "\n",
        "# Check your answer\n",
        "q7.check()\n",
        "df"
      ],
      "metadata": {
        "execution": {
          "iopub.status.busy": "2024-10-13T09:31:35.19828Z",
          "iopub.execute_input": "2024-10-13T09:31:35.198704Z",
          "iopub.status.idle": "2024-10-13T09:31:35.221434Z",
          "shell.execute_reply.started": "2024-10-13T09:31:35.198663Z",
          "shell.execute_reply": "2024-10-13T09:31:35.219902Z"
        },
        "trusted": true,
        "id": "s_m8qMTAPYJl",
        "outputId": "f2484a6b-b823-47d0-f9d2-b9d188fe5214"
      },
      "execution_count": null,
      "outputs": [
        {
          "output_type": "display_data",
          "data": {
            "text/plain": "<IPython.core.display.Javascript object>",
            "application/javascript": "parent.postMessage({\"jupyterEvent\": \"custom.exercise_interaction\", \"data\": {\"outcomeType\": 1, \"valueTowardsCompletion\": 0.1111111111111111, \"interactionType\": 1, \"questionType\": 1, \"questionId\": \"7_RowColSelect2\", \"learnToolsVersion\": \"0.3.4\", \"failureMessage\": \"\", \"exceptionClass\": \"\", \"trace\": \"\"}}, \"*\")"
          },
          "metadata": {}
        },
        {
          "output_type": "display_data",
          "data": {
            "text/plain": "Correct: \n\n\n```python\ncols = ['country', 'variety']\ndf = reviews.loc[:99, cols]\n```\nor \n```python\ncols_idx = [0, 11]\ndf = reviews.iloc[:100, cols_idx]\n```",
            "text/markdown": "<span style=\"color:#33cc33\">Correct:</span> \n\n\n```python\ncols = ['country', 'variety']\ndf = reviews.loc[:99, cols]\n```\nor \n```python\ncols_idx = [0, 11]\ndf = reviews.iloc[:100, cols_idx]\n```\n"
          },
          "metadata": {}
        },
        {
          "execution_count": 20,
          "output_type": "execute_result",
          "data": {
            "text/plain": "     country                   variety\n0      Italy               White Blend\n1   Portugal            Portuguese Red\n..       ...                       ...\n98     Italy                Sangiovese\n99        US  Bordeaux-style Red Blend\n\n[100 rows x 2 columns]",
            "text/html": "<div>\n<style scoped>\n    .dataframe tbody tr th:only-of-type {\n        vertical-align: middle;\n    }\n\n    .dataframe tbody tr th {\n        vertical-align: top;\n    }\n\n    .dataframe thead th {\n        text-align: right;\n    }\n</style>\n<table border=\"1\" class=\"dataframe\">\n  <thead>\n    <tr style=\"text-align: right;\">\n      <th></th>\n      <th>country</th>\n      <th>variety</th>\n    </tr>\n  </thead>\n  <tbody>\n    <tr>\n      <th>0</th>\n      <td>Italy</td>\n      <td>White Blend</td>\n    </tr>\n    <tr>\n      <th>1</th>\n      <td>Portugal</td>\n      <td>Portuguese Red</td>\n    </tr>\n    <tr>\n      <th>...</th>\n      <td>...</td>\n      <td>...</td>\n    </tr>\n    <tr>\n      <th>98</th>\n      <td>Italy</td>\n      <td>Sangiovese</td>\n    </tr>\n    <tr>\n      <th>99</th>\n      <td>US</td>\n      <td>Bordeaux-style Red Blend</td>\n    </tr>\n  </tbody>\n</table>\n<p>100 rows × 2 columns</p>\n</div>"
          },
          "metadata": {}
        }
      ]
    },
    {
      "cell_type": "code",
      "source": [
        "#q7.hint()\n",
        "#q7.solution()"
      ],
      "metadata": {
        "id": "t6Ms6uRdPYJl"
      },
      "execution_count": null,
      "outputs": []
    },
    {
      "cell_type": "markdown",
      "source": [
        "## 8.\n",
        "\n",
        "Create a DataFrame `italian_wines` containing reviews of wines made in `Italy`. Hint: `reviews.country` equals what?"
      ],
      "metadata": {
        "id": "eImjxrfdPYJl"
      }
    },
    {
      "cell_type": "code",
      "source": [
        "italian_wines = reviews[reviews.country == 'Italy']\n",
        "\n",
        "# Check your answer\n",
        "q8.check()"
      ],
      "metadata": {
        "execution": {
          "iopub.status.busy": "2024-10-13T09:33:18.462264Z",
          "iopub.execute_input": "2024-10-13T09:33:18.462677Z",
          "iopub.status.idle": "2024-10-13T09:33:18.512761Z",
          "shell.execute_reply.started": "2024-10-13T09:33:18.462638Z",
          "shell.execute_reply": "2024-10-13T09:33:18.510726Z"
        },
        "trusted": true,
        "id": "dTb4jXgTPYJm",
        "outputId": "bd676294-4576-47e5-9c6b-8b0a1d8e3728"
      },
      "execution_count": null,
      "outputs": [
        {
          "output_type": "display_data",
          "data": {
            "text/plain": "<IPython.core.display.Javascript object>",
            "application/javascript": "parent.postMessage({\"jupyterEvent\": \"custom.exercise_interaction\", \"data\": {\"outcomeType\": 1, \"valueTowardsCompletion\": 0.1111111111111111, \"interactionType\": 1, \"questionType\": 1, \"questionId\": \"8_ItalianWines\", \"learnToolsVersion\": \"0.3.4\", \"failureMessage\": \"\", \"exceptionClass\": \"\", \"trace\": \"\"}}, \"*\")"
          },
          "metadata": {}
        },
        {
          "output_type": "display_data",
          "data": {
            "text/plain": "Correct",
            "text/markdown": "<span style=\"color:#33cc33\">Correct</span>"
          },
          "metadata": {}
        }
      ]
    },
    {
      "cell_type": "code",
      "source": [
        "#q8.hint()\n",
        "q8.solution()"
      ],
      "metadata": {
        "execution": {
          "iopub.status.busy": "2024-10-13T09:33:06.219876Z",
          "iopub.execute_input": "2024-10-13T09:33:06.220357Z",
          "iopub.status.idle": "2024-10-13T09:33:06.230212Z",
          "shell.execute_reply.started": "2024-10-13T09:33:06.220313Z",
          "shell.execute_reply": "2024-10-13T09:33:06.229016Z"
        },
        "trusted": true,
        "id": "3dzUBu3pPYJm",
        "outputId": "1159092f-c1f4-463b-cf95-1be4537562ac"
      },
      "execution_count": null,
      "outputs": [
        {
          "output_type": "display_data",
          "data": {
            "text/plain": "<IPython.core.display.Javascript object>",
            "application/javascript": "parent.postMessage({\"jupyterEvent\": \"custom.exercise_interaction\", \"data\": {\"interactionType\": 3, \"questionType\": 1, \"questionId\": \"8_ItalianWines\", \"learnToolsVersion\": \"0.3.4\", \"valueTowardsCompletion\": 0.0, \"failureMessage\": \"\", \"exceptionClass\": \"\", \"trace\": \"\", \"outcomeType\": 4}}, \"*\")"
          },
          "metadata": {}
        },
        {
          "output_type": "display_data",
          "data": {
            "text/plain": "Solution: \n```python\nitalian_wines = reviews[reviews.country == 'Italy']\n```",
            "text/markdown": "<span style=\"color:#33cc99\">Solution:</span> \n```python\nitalian_wines = reviews[reviews.country == 'Italy']\n```"
          },
          "metadata": {}
        }
      ]
    },
    {
      "cell_type": "markdown",
      "source": [
        "## 9.\n",
        "\n",
        "Create a DataFrame `top_oceania_wines` containing all reviews with at least 95 points (out of 100) for wines from Australia or New Zealand."
      ],
      "metadata": {
        "id": "SaFuNPxpPYJm"
      }
    },
    {
      "cell_type": "code",
      "source": [
        "top_oceania_wines = reviews.loc[(reviews.country.isin(['Australia', 'New Zealand']))& (reviews.points>=95)]\n",
        "\n",
        "# Check your answer\n",
        "q9.check()\n",
        "top_oceania_wines"
      ],
      "metadata": {
        "execution": {
          "iopub.status.busy": "2024-10-13T09:37:44.775167Z",
          "iopub.execute_input": "2024-10-13T09:37:44.775592Z",
          "iopub.status.idle": "2024-10-13T09:37:44.817919Z",
          "shell.execute_reply.started": "2024-10-13T09:37:44.775552Z",
          "shell.execute_reply": "2024-10-13T09:37:44.816654Z"
        },
        "trusted": true,
        "id": "yf32tsX4PYJm",
        "outputId": "8a7a80d1-b463-4aa8-edad-54ed881feccd"
      },
      "execution_count": null,
      "outputs": [
        {
          "output_type": "display_data",
          "data": {
            "text/plain": "<IPython.core.display.Javascript object>",
            "application/javascript": "parent.postMessage({\"jupyterEvent\": \"custom.exercise_interaction\", \"data\": {\"outcomeType\": 1, \"valueTowardsCompletion\": 0.1111111111111111, \"interactionType\": 1, \"questionType\": 1, \"questionId\": \"9_TopOceanicWines\", \"learnToolsVersion\": \"0.3.4\", \"failureMessage\": \"\", \"exceptionClass\": \"\", \"trace\": \"\"}}, \"*\")"
          },
          "metadata": {}
        },
        {
          "output_type": "display_data",
          "data": {
            "text/plain": "Correct",
            "text/markdown": "<span style=\"color:#33cc33\">Correct</span>"
          },
          "metadata": {}
        },
        {
          "execution_count": 30,
          "output_type": "execute_result",
          "data": {
            "text/plain": "            country                                        description  \\\n345       Australia  This wine contains some material over 100 year...   \n346       Australia  This deep brown wine smells like a damp, mossy...   \n...             ...                                                ...   \n122507  New Zealand  This blend of Cabernet Sauvignon (62.5%), Merl...   \n122939    Australia  Full-bodied and plush yet vibrant and imbued w...   \n\n                                  designation  points  price         province  \\\n345                                      Rare     100  350.0         Victoria   \n346                                      Rare      98  350.0         Victoria   \n...                                       ...     ...    ...              ...   \n122507  SQM Gimblett Gravels Cabernets/Merlot      95   79.0      Hawke's Bay   \n122939                             The Factor      98  125.0  South Australia   \n\n              region_1 region_2     taster_name taster_twitter_handle  \\\n345         Rutherglen      NaN  Joe Czerwinski                @JoeCz   \n346         Rutherglen      NaN  Joe Czerwinski                @JoeCz   \n...                ...      ...             ...                   ...   \n122507             NaN      NaN  Joe Czerwinski                @JoeCz   \n122939  Barossa Valley      NaN  Joe Czerwinski                @JoeCz   \n\n                                                    title  \\\n345     Chambers Rosewood Vineyards NV Rare Muscat (Ru...   \n346     Chambers Rosewood Vineyards NV Rare Muscadelle...   \n...                                                   ...   \n122507  Squawking Magpie 2014 SQM Gimblett Gravels Cab...   \n122939   Torbreck 2013 The Factor Shiraz (Barossa Valley)   \n\n                         variety                       winery  \n345                       Muscat  Chambers Rosewood Vineyards  \n346                   Muscadelle  Chambers Rosewood Vineyards  \n...                          ...                          ...  \n122507  Bordeaux-style Red Blend             Squawking Magpie  \n122939                    Shiraz                     Torbreck  \n\n[49 rows x 13 columns]",
            "text/html": "<div>\n<style scoped>\n    .dataframe tbody tr th:only-of-type {\n        vertical-align: middle;\n    }\n\n    .dataframe tbody tr th {\n        vertical-align: top;\n    }\n\n    .dataframe thead th {\n        text-align: right;\n    }\n</style>\n<table border=\"1\" class=\"dataframe\">\n  <thead>\n    <tr style=\"text-align: right;\">\n      <th></th>\n      <th>country</th>\n      <th>description</th>\n      <th>designation</th>\n      <th>points</th>\n      <th>price</th>\n      <th>province</th>\n      <th>region_1</th>\n      <th>region_2</th>\n      <th>taster_name</th>\n      <th>taster_twitter_handle</th>\n      <th>title</th>\n      <th>variety</th>\n      <th>winery</th>\n    </tr>\n  </thead>\n  <tbody>\n    <tr>\n      <th>345</th>\n      <td>Australia</td>\n      <td>This wine contains some material over 100 year...</td>\n      <td>Rare</td>\n      <td>100</td>\n      <td>350.0</td>\n      <td>Victoria</td>\n      <td>Rutherglen</td>\n      <td>NaN</td>\n      <td>Joe Czerwinski</td>\n      <td>@JoeCz</td>\n      <td>Chambers Rosewood Vineyards NV Rare Muscat (Ru...</td>\n      <td>Muscat</td>\n      <td>Chambers Rosewood Vineyards</td>\n    </tr>\n    <tr>\n      <th>346</th>\n      <td>Australia</td>\n      <td>This deep brown wine smells like a damp, mossy...</td>\n      <td>Rare</td>\n      <td>98</td>\n      <td>350.0</td>\n      <td>Victoria</td>\n      <td>Rutherglen</td>\n      <td>NaN</td>\n      <td>Joe Czerwinski</td>\n      <td>@JoeCz</td>\n      <td>Chambers Rosewood Vineyards NV Rare Muscadelle...</td>\n      <td>Muscadelle</td>\n      <td>Chambers Rosewood Vineyards</td>\n    </tr>\n    <tr>\n      <th>...</th>\n      <td>...</td>\n      <td>...</td>\n      <td>...</td>\n      <td>...</td>\n      <td>...</td>\n      <td>...</td>\n      <td>...</td>\n      <td>...</td>\n      <td>...</td>\n      <td>...</td>\n      <td>...</td>\n      <td>...</td>\n      <td>...</td>\n    </tr>\n    <tr>\n      <th>122507</th>\n      <td>New Zealand</td>\n      <td>This blend of Cabernet Sauvignon (62.5%), Merl...</td>\n      <td>SQM Gimblett Gravels Cabernets/Merlot</td>\n      <td>95</td>\n      <td>79.0</td>\n      <td>Hawke's Bay</td>\n      <td>NaN</td>\n      <td>NaN</td>\n      <td>Joe Czerwinski</td>\n      <td>@JoeCz</td>\n      <td>Squawking Magpie 2014 SQM Gimblett Gravels Cab...</td>\n      <td>Bordeaux-style Red Blend</td>\n      <td>Squawking Magpie</td>\n    </tr>\n    <tr>\n      <th>122939</th>\n      <td>Australia</td>\n      <td>Full-bodied and plush yet vibrant and imbued w...</td>\n      <td>The Factor</td>\n      <td>98</td>\n      <td>125.0</td>\n      <td>South Australia</td>\n      <td>Barossa Valley</td>\n      <td>NaN</td>\n      <td>Joe Czerwinski</td>\n      <td>@JoeCz</td>\n      <td>Torbreck 2013 The Factor Shiraz (Barossa Valley)</td>\n      <td>Shiraz</td>\n      <td>Torbreck</td>\n    </tr>\n  </tbody>\n</table>\n<p>49 rows × 13 columns</p>\n</div>"
          },
          "metadata": {}
        }
      ]
    },
    {
      "cell_type": "code",
      "source": [
        "#q9.hint()\n",
        "q9.solution()"
      ],
      "metadata": {
        "execution": {
          "iopub.status.busy": "2024-10-13T09:35:45.410763Z",
          "iopub.execute_input": "2024-10-13T09:35:45.411204Z",
          "iopub.status.idle": "2024-10-13T09:35:45.421835Z",
          "shell.execute_reply.started": "2024-10-13T09:35:45.411161Z",
          "shell.execute_reply": "2024-10-13T09:35:45.420499Z"
        },
        "trusted": true,
        "id": "eg0EzLS2PYJm",
        "outputId": "83e55686-7f61-4ff2-bff4-67a079644d1e"
      },
      "execution_count": null,
      "outputs": [
        {
          "output_type": "display_data",
          "data": {
            "text/plain": "<IPython.core.display.Javascript object>",
            "application/javascript": "parent.postMessage({\"jupyterEvent\": \"custom.exercise_interaction\", \"data\": {\"interactionType\": 3, \"questionType\": 1, \"questionId\": \"9_TopOceanicWines\", \"learnToolsVersion\": \"0.3.4\", \"valueTowardsCompletion\": 0.0, \"failureMessage\": \"\", \"exceptionClass\": \"\", \"trace\": \"\", \"outcomeType\": 4}}, \"*\")"
          },
          "metadata": {}
        },
        {
          "output_type": "display_data",
          "data": {
            "text/plain": "Solution: \n```python\ntop_oceania_wines = reviews.loc[\n    (reviews.country.isin(['Australia', 'New Zealand']))\n    & (reviews.points >= 95)\n]\n```",
            "text/markdown": "<span style=\"color:#33cc99\">Solution:</span> \n```python\ntop_oceania_wines = reviews.loc[\n    (reviews.country.isin(['Australia', 'New Zealand']))\n    & (reviews.points >= 95)\n]\n```"
          },
          "metadata": {}
        }
      ]
    },
    {
      "cell_type": "markdown",
      "source": [
        "# Keep going\n",
        "\n",
        "Move on to learn about **[summary functions and maps](https://www.kaggle.com/residentmario/summary-functions-and-maps)**."
      ],
      "metadata": {
        "id": "_gAPmmi8PYJm"
      }
    },
    {
      "cell_type": "markdown",
      "source": [
        "---\n",
        "\n",
        "\n",
        "\n",
        "\n",
        "*Have questions or comments? Visit the [course discussion forum](https://www.kaggle.com/learn/pandas/discussion) to chat with other learners.*"
      ],
      "metadata": {
        "id": "05aT7hdZPYJm"
      }
    }
  ]
}